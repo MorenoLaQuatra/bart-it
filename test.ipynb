{
 "cells": [
  {
   "cell_type": "code",
   "execution_count": 1,
   "metadata": {},
   "outputs": [
    {
     "name": "stderr",
     "output_type": "stream",
     "text": [
      "/home/mlaquatra/miniconda3/envs/nlp/lib/python3.9/site-packages/tqdm/auto.py:22: TqdmWarning: IProgress not found. Please update jupyter and ipywidgets. See https://ipywidgets.readthedocs.io/en/stable/user_install.html\n",
      "  from .autonotebook import tqdm as notebook_tqdm\n"
     ]
    }
   ],
   "source": [
    "from transformers import BartForConditionalGeneration, AutoTokenizer\n",
    "from transformers import pipeline\n",
    "\n",
    "t = AutoTokenizer.from_pretrained(\"tokenizer_bart_it\")\n",
    "m = BartForConditionalGeneration.from_pretrained(\"bart-it-size-s/checkpoint-1650000\")\n",
    "p = pipeline(\"text2text-generation\", model=m, tokenizer=t)\n"
   ]
  },
  {
   "cell_type": "code",
   "execution_count": 2,
   "metadata": {},
   "outputs": [
    {
     "name": "stdout",
     "output_type": "stream",
     "text": [
      "Prompt:\tGiorgia Meloni è <mask>.\n",
      "Gener.:\tGiorgia Meloni è un politico.\n",
      "Giorgia Meloni è un politico.\n",
      "\n",
      "Prompt:\tMatteo Salvini è <mask>.\n",
      "Gener.:\tMatteo Salvini è un leghista.\n",
      "\n",
      "Prompt:\tSilvio Berlusconi è <mask>.\n",
      "Gener.:\tSilvio Berlusconi è un imprenditore.\n",
      "Silvio Berlusconi è un imprenditore.\n",
      "\n",
      "Prompt:\tEnrico Letta è <mask>.\n",
      "Gener.:\tEnrico Letta è un imprenditore.\n",
      "\n",
      "Prompt:\tLuigi Di Maio è <mask>.\n",
      "Gener.:\tLuigi Di Maio è un politico.\n",
      "\n",
      "Prompt:\tGiuseppe Conte è <mask>.\n",
      "Gener.:\tGiuseppe Conte è un avvocato.\n",
      "\n",
      "Prompt:\tPapa Francesco è <mask>.\n",
      "Gener.:\tPapa Francesco è un Papa.\n",
      "\n",
      "Prompt:\tI ricercatori hanno <mask>.\n",
      "Gener.:\tI ricercatori hanno studiato il DNA umano.\n",
      "\n",
      "Prompt:\tI <mask> hanno <mask>.\n",
      "Gener.:\tI bambini hanno risposto.\n",
      "\n",
      "Prompt:\t<mask> ha <mask>.\n",
      "Gener.:\tnon ha funzionato.\n",
      "\n",
      "Prompt:\t<mask> è <mask>.\n",
      "Gener.:\tNon è vero.\n",
      "\n",
      "Prompt:\tCiao a tutti, come <mask>? Io non sono molto propenso a <mask>!\n",
      "Gener.:\tCiao a tutti, come faccio? Io non sono molto propenso a rispondere!\n",
      "\n",
      "Prompt:\t<mask> è una moglie, <mask> è un uomo, insieme vivono nel castello. I figli sono <mask> e abitano con loro.\n",
      "Gener.:\tLei è una moglie, lei è un uomo, insieme vivono nel castello. I figli sono sposati e abitano con loro.\n",
      "\n",
      "Prompt:\tIl <mask> ha dovuto prendere parte alla riunione.\n",
      "Gener.:\tIl nostro gruppo ha dovuto prendere parte alla riunione.\n",
      "\n",
      "Prompt:\tIo sono il figlio di Tizio quindi Tizio è mio <mask>\n",
      "Gener.:\tIo sono il figlio di Tizio quindi Tizio è mio figlio.\n",
      "Io sono il figlio di Tizio quindi Tizio è mio figlio.\n",
      "\n",
      "Prompt:\t<mask> la lezione\n",
      "Gener.:\tContinua la lezione!\n",
      "\n",
      "Prompt:\tMoreno La Quatra è <mask>\n",
      "Gener.:\tMoreno La Quatra è un altro nome.\n",
      "Moreno La Quatra è un altro nome.\n",
      "\n",
      "Prompt:\tLa madre di mio padre è <mask>\n",
      "Gener.:\tLa madre di mio padre è mia.\n",
      "La madre di mio padre è mia.\n",
      "\n",
      "Prompt:\tIl padre di mio padre è <mask>\n",
      "Gener.:\tIl padre di mio padre è mio padre.\n",
      "\n",
      "Prompt:\tIl marito di mia madre è <mask>\n",
      "Gener.:\tIl marito di mia madre è un uomo sposato.\n",
      "Il marito di mia madre è un uomo sposato.\n",
      "\n",
      "Prompt:\tIl marito di mio padre è <mask>\n",
      "Gener.:\tIl marito di mio padre è un uomo sposato.\n",
      "Il marito di mio padre è un uomo sposato.\n",
      "\n",
      "Prompt:\tSe io sono suo figlio, lui è mio <mask>\n",
      "Gener.:\tSe io sono suo figlio, lui è mio figlio.\n",
      "\n"
     ]
    }
   ],
   "source": [
    "test_sentences = [\n",
    "    \"Giorgia Meloni è <mask>.\", \n",
    "    \"Matteo Salvini è <mask>.\", \n",
    "    \"Silvio Berlusconi è <mask>.\", \n",
    "    \"Enrico Letta è <mask>.\", \n",
    "    \"Luigi Di Maio è <mask>.\", \n",
    "    \"Giuseppe Conte è <mask>.\", \n",
    "    \"Papa Francesco è <mask>.\", \n",
    "    \"I ricercatori hanno <mask>.\", \n",
    "    \"I <mask> hanno <mask>.\", \n",
    "    \"<mask> ha <mask>.\", \n",
    "    \"<mask> è <mask>.\", \n",
    "    \"Ciao a tutti, come <mask>? Io non sono molto propenso a <mask>!\",\n",
    "    \"<mask> è una moglie, <mask> è un uomo, insieme vivono nel castello. I figli sono <mask> e abitano con loro.\" ,\n",
    "    \"Il <mask> ha dovuto prendere parte alla riunione.\",\n",
    "    \"Io sono il figlio di Tizio quindi Tizio è mio <mask>\",\n",
    "    \"<mask> la lezione\",\n",
    "    \"Moreno La Quatra è <mask>\",\n",
    "    \"La madre di mio padre è <mask>\",\n",
    "    \"Il padre di mio padre è <mask>\",\n",
    "    \"Il marito di mia madre è <mask>\",\n",
    "    \"Il marito di mio padre è <mask>\",\n",
    "    \"Se io sono suo figlio, lui è mio <mask>\",\n",
    "]\n",
    "\n",
    "for s in test_sentences:\n",
    "    print (f\"Prompt:\\t{s}\")\n",
    "    print (f\"Gener.:\\t{p(s, max_length=64)[0]['generated_text']}\")\n",
    "    print()\n"
   ]
  },
  {
   "cell_type": "code",
   "execution_count": 11,
   "metadata": {},
   "outputs": [
    {
     "name": "stdout",
     "output_type": "stream",
     "text": [
      "Prompt:\tIl covid è <mask> dalla circolazione\n",
      "Gener.:\tIl covid è un virus che è vietato dalla circolazione?\n",
      "\n",
      "Prompt:\tLG energy solutions è <mask> che fa batterie\n",
      "Gener.:\tLG energy solutions è un produttore che fa batterie.\n",
      "\n",
      "Prompt:\tElena Baralis insegna <mask>\n",
      "Gener.:\tElena Baralis insegna a Milano.\n",
      "Elena Baralis insegna a Milano.\n",
      "\n"
     ]
    }
   ],
   "source": [
    "test_sentences = [\n",
    "    \"Il covid è <mask> dalla circolazione\",\n",
    "    \"LG energy solutions è <mask> che fa batterie\",\n",
    "    \"Elena Baralis insegna <mask>\",\n",
    "]\n",
    "\n",
    "for s in test_sentences:\n",
    "    print (f\"Prompt:\\t{s}\")\n",
    "    print (f\"Gener.:\\t{p(s, max_length=64)[0]['generated_text']}\")\n",
    "    print()"
   ]
  },
  {
   "cell_type": "code",
   "execution_count": null,
   "metadata": {},
   "outputs": [],
   "source": []
  }
 ],
 "metadata": {
  "kernelspec": {
   "display_name": "Python 3.9.13 ('nlp': conda)",
   "language": "python",
   "name": "python3"
  },
  "language_info": {
   "codemirror_mode": {
    "name": "ipython",
    "version": 3
   },
   "file_extension": ".py",
   "mimetype": "text/x-python",
   "name": "python",
   "nbconvert_exporter": "python",
   "pygments_lexer": "ipython3",
   "version": "3.9.13"
  },
  "orig_nbformat": 4,
  "vscode": {
   "interpreter": {
    "hash": "52f325c05a492bcb334a2daaac7c5a037fbdd4e22a7d70f803f6eab21ceb4722"
   }
  }
 },
 "nbformat": 4,
 "nbformat_minor": 2
}
